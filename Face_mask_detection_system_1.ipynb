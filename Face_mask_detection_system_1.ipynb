{
 "cells": [
  {
   "cell_type": "code",
   "execution_count": null,
   "metadata": {},
   "outputs": [],
   "source": [
    "## I am not runing this because it will take lot's of time during training so,please kindelly run on google colab\n",
    "## for understanding am uploading this"
   ]
  },
  {
   "cell_type": "code",
   "execution_count": null,
   "metadata": {},
   "outputs": [],
   "source": [
    "import cv2\n",
    "import numpy as np\n",
    "from tensorflow.keras.utils import to_categorical\n",
    "from sklearn.preprocessing import LabelBinarizer\n",
    "from sklearn.model_selection import train_test_split"
   ]
  },
  {
   "cell_type": "code",
   "execution_count": null,
   "metadata": {},
   "outputs": [],
   "source": [
    "img_rows, img_cols = 112, 112\n",
    "\n",
    "images = []\n",
    "labels = []"
   ]
  },
  {
   "cell_type": "code",
   "execution_count": null,
   "metadata": {},
   "outputs": [],
   "source": [
    "Dataset=\"C:/Users/User/Desktop/Dataset\"\n",
    "for category in Data_Dir:\n",
    "    folder_path = os.path.join(Dataset, category)\n",
    "    for img in os.listdir(folder_path):\n",
    "        img_path = os.path.join(folder_path, img)\n",
    "        img=cv2.imread(img_path)\n",
    "\n",
    "        try:\n",
    "            #Coverting the image into gray scale\n",
    "            grayscale_img=cv2.cvtColor(img,cv2.COLOR_BGR2GRAY)\n",
    "\n",
    "            #resizing the gray scaled image into size 56x56 in order to keep size of the images consistent           \n",
    "            resized_img=cv2.resize(grayscale_img,(img_rows, img_cols))\n",
    "            images.append(resized_img)\n",
    "            labels.append(category)\n",
    "        # Exception Handling in case any error occurs\n",
    "        except Exception as e:\n",
    "            print('Exception:',e)\n"
   ]
  },
  {
   "cell_type": "code",
   "execution_count": null,
   "metadata": {},
   "outputs": [],
   "source": [
    "images=np.array(images)/255.0\n",
    "images=np.reshape(images,(images.shape[0],img_rows, img_cols,1))\n",
    "\n",
    "# Perform one hot encoding on the labels since the label are in textual form\n",
    "lb = LabelBinarizer()\n",
    "labels = lb.fit_transform(labels)\n",
    "labels = to_categorical(labels)\n",
    "labels = np.array(labels)\n",
    "\n",
    "(train_X, test_X, train_y, test_y) = train_test_split(images, labels, test_size=0.25, \n",
    "                                                      random_state=0)\n",
    "\n",
    "\"\"\"## Build Covolutional Neural Network (CNN) Classification Model\"\"\"\n",
    "\n",
    "# Import Necessary Keras Libraries\n",
    "from keras.models import Sequential\n",
    "from keras.layers import Dense,Activation,Flatten,Dropout\n",
    "from keras.layers import Conv2D,MaxPooling2D\n"
   ]
  },
  {
   "cell_type": "code",
   "execution_count": null,
   "metadata": {},
   "outputs": [],
   "source": [
    "# Define model paramters\n",
    "num_classes = 2\n",
    "batch_size = 32\n",
    "\n",
    "# Build CNN model using Sequential API\n",
    "model=Sequential()\n",
    "\n",
    "#First layer group containing Convolution, Relu and MaxPooling layers\n",
    "model.add(Conv2D(64,(3,3),input_shape=(img_rows, img_cols, 1)))\n",
    "model.add(Activation('relu'))\n",
    "model.add(MaxPooling2D(pool_size=(2,2)))\n",
    "\n",
    "#Second layer group containing Convolution, Relu and MaxPooling layers\n",
    "model.add(Conv2D(128,(3,3)))\n",
    "model.add(Activation('relu'))\n",
    "model.add(MaxPooling2D(pool_size=(2,2)))\n"
   ]
  },
  {
   "cell_type": "code",
   "execution_count": null,
   "metadata": {},
   "outputs": [],
   "source": [
    "#Flatten and Dropout Layer to stack the output convolutions above as well as cater overfitting\n",
    "model.add(Flatten())\n",
    "model.add(Dropout(0.5))\n",
    "\n",
    "# Softmax Classifier\n",
    "model.add(Dense(64,activation='relu'))\n",
    "model.add(Dense(num_classes,activation='softmax'))\n",
    "\n",
    "print(model.summary())\n"
   ]
  },
  {
   "cell_type": "code",
   "execution_count": null,
   "metadata": {},
   "outputs": [],
   "source": [
    "\n",
    "\"\"\"## Plot the Model\"\"\"\n",
    "\n",
    "# Plot the model\n",
    "from keras.utils.vis_utils import plot_model\n",
    "plot_model(model, to_file='face_mask_detection_architecture.png')\n",
    "\n",
    "\"\"\"## Train the Model\"\"\"\n",
    "\n",
    "from keras.optimizers import Adam\n",
    "\n",
    "epochs = 50\n",
    "\n",
    "model.compile(loss = 'categorical_crossentropy',\n",
    "              optimizer = Adam(lr=0.001),\n",
    "              metrics = ['accuracy'])\n",
    "\n",
    "fitted_model = model.fit(\n",
    "    train_X,\n",
    "    train_y,\n",
    "    epochs = epochs,\n",
    "    validation_split=0.25)\n",
    "\n",
    "\"\"\"## Plot the Training Loss & Accuracy\"\"\"\n",
    "\n",
    "from matplotlib import pyplot as plt\n",
    "# Plot Training and Validation Loss\n",
    "plt.plot(fitted_model.history['loss'],'r',label='training loss')\n",
    "plt.plot(fitted_model.history['val_loss'],label='validation loss')\n",
    "plt.xlabel('Number of Epochs')\n",
    "plt.ylabel('Loss Value')\n",
    "plt.legend()\n",
    "plt.show()"
   ]
  },
  {
   "cell_type": "code",
   "execution_count": null,
   "metadata": {},
   "outputs": [],
   "source": [
    "# Plot Training and Validation Accuracy\n",
    "plt.plot(fitted_model.history['accuracy'],'r',label='training accuracy')\n",
    "plt.plot(fitted_model.history['val_accuracy'],label='validation accuracy')\n",
    "plt.xlabel('Number of Epochs')\n",
    "plt.ylabel('Accuracy Value')\n",
    "plt.legend()\n",
    "plt.show()\n",
    "\n",
    "\"\"\"## Save or Serialize the Model\"\"\"\n",
    "\n",
    "# Save or Serialize the model with the name face_mask_detection_alert_system\n",
    "model.save('C:/Users/User/Desktop/Dataset/face_mask_detection_alert_system.h5')\n"
   ]
  },
  {
   "cell_type": "code",
   "execution_count": null,
   "metadata": {},
   "outputs": [],
   "source": []
  },
  {
   "cell_type": "code",
   "execution_count": null,
   "metadata": {},
   "outputs": [],
   "source": []
  },
  {
   "cell_type": "code",
   "execution_count": null,
   "metadata": {},
   "outputs": [],
   "source": []
  },
  {
   "cell_type": "code",
   "execution_count": null,
   "metadata": {},
   "outputs": [],
   "source": []
  },
  {
   "cell_type": "code",
   "execution_count": null,
   "metadata": {},
   "outputs": [],
   "source": []
  }
 ],
 "metadata": {
  "kernelspec": {
   "display_name": "Python 3",
   "language": "python",
   "name": "python3"
  },
  "language_info": {
   "codemirror_mode": {
    "name": "ipython",
    "version": 3
   },
   "file_extension": ".py",
   "mimetype": "text/x-python",
   "name": "python",
   "nbconvert_exporter": "python",
   "pygments_lexer": "ipython3",
   "version": "3.7.0"
  }
 },
 "nbformat": 4,
 "nbformat_minor": 4
}
